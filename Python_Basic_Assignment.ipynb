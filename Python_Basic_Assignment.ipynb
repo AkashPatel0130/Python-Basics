{
  "nbformat": 4,
  "nbformat_minor": 0,
  "metadata": {
    "colab": {
      "provenance": []
    },
    "kernelspec": {
      "name": "python3",
      "display_name": "Python 3"
    },
    "language_info": {
      "name": "python"
    }
  },
  "cells": [
    {
      "cell_type": "markdown",
      "source": [
        "1. What is Python, and why is it popular?\n",
        "- A python is a hight level, intrepreted programing languadgeused in varity of projects like Data analysis, Data visulisation, etc . It was created in 1991 by Guido van Rossum.\n",
        "- it is popular because -\n",
        "                      - It is a open source coading language.\n",
        "                      - Easy to learn and read.\n",
        "                      - Have a huge comunity and library.\n",
        "                      - Versatile and  powerful.\n",
        "                      - Also a multipurpose programing language.\n",
        "\n",
        "\n",
        "2. What is an interpreter in Python ?\n",
        "- An interpreter is a program that reads and executes code line by line a. it converts each high level program line into machine code .\n",
        "- It get stoped at first error.\n",
        "- It is slower then compiler.\n",
        "\n",
        "\n",
        "3. What are pre-defined keywords in Python ?\n",
        "- pre-defined keywords in python are reserved words that have special  meaning.\n",
        "- we can't use them as variable name, function name, or identifiers.\n",
        "- pre-defined keywords are :- if, else, for , while, def, return, etc.\n",
        "\n",
        "\n",
        "4. Can keywords be used as variable names ?\n",
        "- No , keywords cannot be used as variable name in python.\n",
        "- Because they are reserved words that have special meaning in the language,and using them as variable names will cause a syntaxerror.\n",
        "- Always choose meaningful, non-keyword names for variables.\n",
        "\n",
        "\n",
        " 5. What is mutability in Python ?\n",
        " - Mutability in python means that we can modify the data by adding , deleting and replacing after it's implementation or creation .\n",
        "- examples are:-\n",
        "               - List\n",
        "               - Dictionaries\n",
        "               - sets\n",
        "\n",
        "6. Why are lists mutable, but tuples are immutable ?  \n",
        "- list are mutable because if we generaly need to change  the data according to the conditions daily  in the list.\n",
        "- tuple are immutable because it is made to protect the core data which have no need to get change.\n",
        "\n",
        "\n",
        "7. What is the difference between “==” and “is” operators in Python\n",
        "- Both \"==\" and \"is\" are comperision operators in pyhton, but they check different thing.\n",
        "  - \"==\" it is a equality operatoor used to cheack whether the value of two variables are the same.\n",
        "  - \"is\" it is a identity operator used to check whether two variables refers to the same object in memory.\n",
        "\n",
        "\n",
        "8. What are logical operators in Python ?\n",
        " - logical operators in python are used to combine conditional expressions . They return either true or false based on the logic.\n",
        "\n",
        "9. What is type casting in Python ?\n",
        "- type casting in pyhton is used to convert data from one type to another.\n",
        "\n",
        "\n",
        "10. What is the difference between implicit and explicit type casting ?\n",
        "- Implicit type casting , the data automaticaly convert from one type to another if needed.\n",
        "- Explicit type casting occurs when the programmer explicity converts a value from one data type to another.\n",
        "\n",
        "\n",
        "11. What is the purpose of conditional statements in Python ?\n",
        "- Conditional statement in python allow the program to make decision and execute different blocks of code based on certain conditions.\n",
        "- conditional statements are used to control the flow of execution and to run the code when specific conditions are met.\n",
        "\n",
        "\n",
        "12. How does the elif statement work?\n",
        "-  The elif stands for 'else if' and used to test multiple conditions, one after other.\n",
        "- The code block under the elif statement will be executed only if its condition is true.\n",
        "\n",
        "\n",
        "13. What is the difference between for and while loop?\n",
        "- The 'for' loop is used when you know in advance how many times you want to execute the block of code.\n",
        "- The 'while' loop is used when you don't know how many times you want to execute the block of code. it continues as long as the specified condition is true.\n",
        "\n",
        "14. Describe a scenario where a while loop is more suitable than a for loop?\n",
        "- 'While' loop is more suitable on the scenario where the no. of attampts are not fix. for example  we need to create a lock which donnot requir limited attampts . so we use while loop .\n",
        "- 'for\" is suitable where we need a specified no. of chance to attampt.for example we nood to create a highly secured lock and need that aftern a certan amount of attampt the system get format or get unlocky by differnt techniques then we use for loop .\n",
        "\n",
        "\n",
        "\n"
      ],
      "metadata": {
        "id": "D4EqhXc_-TpP"
      }
    },
    {
      "cell_type": "code",
      "source": [
        "# 1. Write a Python program to print \"Hello, World\"\n",
        "print(\"Hello, World\")\n",
        "print()"
      ],
      "metadata": {
        "colab": {
          "base_uri": "https://localhost:8080/"
        },
        "id": "kaG6mT_reGc2",
        "outputId": "9c9d4afc-c439-40a8-d5f5-763e4de1237a"
      },
      "execution_count": null,
      "outputs": [
        {
          "output_type": "stream",
          "name": "stdout",
          "text": [
            "Hello, World\n",
            "\n"
          ]
        }
      ]
    },
    {
      "cell_type": "code",
      "source": [
        "# 2. Write a Python program that displays your name and age.\n",
        "Name = \"Akash patel\"\n",
        "Age = \"21\"\n",
        "print(\"Name:\",Name)\n",
        "print(\"Age:\",Age)"
      ],
      "metadata": {
        "colab": {
          "base_uri": "https://localhost:8080/"
        },
        "id": "GygBsdaSeCAQ",
        "outputId": "f0f3edcb-19fe-45a2-b5d2-0d09d984d2f3"
      },
      "execution_count": null,
      "outputs": [
        {
          "output_type": "stream",
          "name": "stdout",
          "text": [
            "Name: Akash patel\n",
            "Age: 21\n"
          ]
        }
      ]
    },
    {
      "cell_type": "code",
      "source": [
        "# 3. Write code to print all the pre-defined keyword in python using the keywords library\n",
        "import keyword\n",
        "print(keyword.kwlist)\n"
      ],
      "metadata": {
        "colab": {
          "base_uri": "https://localhost:8080/"
        },
        "id": "BCH3Ib3HdDFl",
        "outputId": "eb31b853-4c72-48c4-cec7-c796510f44c5"
      },
      "execution_count": null,
      "outputs": [
        {
          "output_type": "stream",
          "name": "stdout",
          "text": [
            "['False', 'None', 'True', 'and', 'as', 'assert', 'async', 'await', 'break', 'class', 'continue', 'def', 'del', 'elif', 'else', 'except', 'finally', 'for', 'from', 'global', 'if', 'import', 'in', 'is', 'lambda', 'nonlocal', 'not', 'or', 'pass', 'raise', 'return', 'try', 'while', 'with', 'yield']\n"
          ]
        }
      ]
    },
    {
      "cell_type": "code",
      "source": [
        "# 4. Write a program that check if a given word is a python keyword\n",
        "import keyword\n",
        "word = input(\"Enter a word: \")\n",
        "if keyword.iskeyword(word):\n",
        "    print(f\"{word} is a python keyword\")\n",
        "else:\n",
        "    print(f\"{word} is not a python keyword\")"
      ],
      "metadata": {
        "colab": {
          "base_uri": "https://localhost:8080/"
        },
        "id": "3GRVIVIieIz7",
        "outputId": "da476778-803e-4ebe-ac4a-09a8ac0e752e"
      },
      "execution_count": null,
      "outputs": [
        {
          "output_type": "stream",
          "name": "stdout",
          "text": [
            "Enter a word: else\n",
            "else is a python keyword\n"
          ]
        }
      ]
    },
    {
      "cell_type": "code",
      "source": [
        "# 5. Create a list and tuple in Python, and demonstrate how attempting to change an element works differently for each.\n",
        "my_list = [1, 2, 3, 4, 5]\n",
        "print(\"original list:\",my_list)\n",
        "my_list[0] = 10\n",
        "print(\"modified list:\",my_list)\n",
        "my_tuple = (1, 2, 3, 4, 5)\n",
        "print(\"original tuple:\",my_tuple)\n",
        "try:\n",
        "    my_tuple[0]=10\n",
        "except TypeError as e:\n",
        "    print(\"Error:\",e)\n"
      ],
      "metadata": {
        "colab": {
          "base_uri": "https://localhost:8080/"
        },
        "id": "z66M5QhIftF3",
        "outputId": "90bac4b8-0045-4283-fb65-860ecbb27ea4"
      },
      "execution_count": null,
      "outputs": [
        {
          "output_type": "stream",
          "name": "stdout",
          "text": [
            "original list: [1, 2, 3, 4, 5]\n",
            "modified list: [10, 2, 3, 4, 5]\n",
            "original tuple: (1, 2, 3, 4, 5)\n",
            "Error: 'tuple' object does not support item assignment\n"
          ]
        }
      ]
    },
    {
      "cell_type": "code",
      "source": [
        "# 6. Write a function to demonstrate the behavior of mutable and immutable arguments\n",
        "def modify_values(num, num_list):\n",
        "    # Try to change the integer (immutable)\n",
        "    num += 10\n",
        "    print(\"Inside function (num):\", num)\n",
        "\n",
        "    # Try to change the list (mutable)\n",
        "    num_list.append(10)\n",
        "    print(\"Inside function (num_list):\", num_list)\n",
        "\n",
        "# Initial values\n",
        "x = 5\n",
        "y = [1, 2, 3]\n",
        "\n",
        "# Call the function\n",
        "modify_values(x, y)\n",
        "\n",
        "# Check values after function call\n",
        "print(\"Outside function (x):\", x)           # Immutable: remains unchanged\n",
        "print(\"Outside function (y):\", y)           # Mutable: list is modified\n"
      ],
      "metadata": {
        "colab": {
          "base_uri": "https://localhost:8080/"
        },
        "id": "ldTE_kBZfmw6",
        "outputId": "75e48507-5207-4493-ab91-caf6643140c4"
      },
      "execution_count": null,
      "outputs": [
        {
          "output_type": "stream",
          "name": "stdout",
          "text": [
            "Inside function (num): 15\n",
            "Inside function (num_list): [1, 2, 3, 10]\n",
            "Outside function (x): 5\n",
            "Outside function (y): [1, 2, 3, 10]\n"
          ]
        }
      ]
    },
    {
      "cell_type": "code",
      "source": [
        "# 7.Write a program that performs basic arithmetic operations on two user-input numbers.\n",
        "def add(x, y):\n",
        "    return x + y\n",
        "\n",
        "def subtract(x, y):\n",
        "    return x - y\n",
        "\n",
        "def multiply(x, y):\n",
        "    return x * y\n",
        "\n",
        "def divide(x, y):\n",
        "    if y == 0:\n",
        "        return \"Error: Cannot divide by zero.\"\n",
        "    else:\n",
        "        return x / y\n",
        "\n",
        "num1 = float(input(\"Enter the first number: \"))\n",
        "num2 = float(input(\"Enter the second number: \"))\n",
        "\n",
        "print(\"Addition:\", add(num1, num2))\n",
        "print(\"Subtraction:\", subtract(num1, num2))\n",
        "print(\"Multiplication:\", multiply(num1, num2))\n",
        "print(\"Division:\", divide(num1, num2))"
      ],
      "metadata": {
        "id": "JTEbXKbbshoP",
        "colab": {
          "base_uri": "https://localhost:8080/"
        },
        "outputId": "a400e178-52ac-4caa-993b-f3061f61e07d"
      },
      "execution_count": null,
      "outputs": [
        {
          "output_type": "stream",
          "name": "stdout",
          "text": [
            "Enter the first number: 20\n",
            "Enter the second number: 40\n",
            "Addition: 60.0\n",
            "Subtraction: -20.0\n",
            "Multiplication: 800.0\n",
            "Division: 0.5\n"
          ]
        }
      ]
    },
    {
      "cell_type": "code",
      "source": [
        "# 8. Write a program to demonstrate the use of logical operators.\n",
        "\n",
        "x = 5\n",
        "y = 10\n",
        "result_and = (x > 0) and (y < 15)\n",
        "print(f\"AND result: {result_and}\")\n",
        "\n",
        "result_and = (x > 10) and (y < 15)\n",
        "print(f\"AND result: {result_and}\")\n",
        "\n",
        "result_or = (x > 0) or (y > 20)\n",
        "print(f\"OR result: {result_or}\")\n",
        "\n",
        "result_or = (x > 10) or (y > 20)\n",
        "print(f\"OR result: {result_or}\")\n",
        "\n",
        "result_not = not (x > 0)\n",
        "print(f\"NOT result: {result_not}\")\n",
        "\n",
        "result_not = not (x > 10)\n",
        "print(f\"NOT result: {result_not}\")\n",
        "\n",
        "\n",
        "result_combined = (x > 0 and y < 15) or (not (x < 0))\n",
        "print(f\"Combined result: {result_combined}\")\n",
        "\n",
        "result_combined = (x < 0 and y < 15) or (not (x < 0))\n",
        "print(f\"Combined result: {result_combined}\")"
      ],
      "metadata": {
        "colab": {
          "base_uri": "https://localhost:8080/"
        },
        "id": "PCZHQ4tLHeJI",
        "outputId": "68f733ea-d548-4cbd-f632-e132bed3f5ef"
      },
      "execution_count": 3,
      "outputs": [
        {
          "output_type": "stream",
          "name": "stdout",
          "text": [
            "AND result: True\n",
            "AND result: False\n",
            "OR result: True\n",
            "OR result: False\n",
            "NOT result: False\n",
            "NOT result: True\n",
            "Combined result: True\n",
            "Combined result: True\n"
          ]
        }
      ]
    },
    {
      "cell_type": "code",
      "source": [
        "# 9. Write a Python program to convert user input from string to integer, float, and boolean types.\n",
        "\n",
        "def convert_input():\n",
        "    user_input = input(\"Enter a value: \")\n",
        "\n",
        "    try:\n",
        "        integer_value = int(user_input)\n",
        "        print(f\"Integer: {integer_value}, Type: {type(integer_value)}\")\n",
        "    except ValueError:\n",
        "        print(\"Cannot convert to integer.\")\n",
        "\n",
        "    try:\n",
        "        float_value = float(user_input)\n",
        "        print(f\"Float: {float_value}, Type: {type(float_value)}\")\n",
        "    except ValueError:\n",
        "        print(\"Cannot convert to float.\")\n",
        "\n",
        "    try:\n",
        "        if user_input.lower() == \"true\":\n",
        "            boolean_value = True\n",
        "        elif user_input.lower() == \"false\":\n",
        "            boolean_value = False\n",
        "        else:\n",
        "            raise ValueError(\"Not a valid boolean string\")\n",
        "        print(f\"Boolean: {boolean_value}, Type: {type(boolean_value)}\")\n",
        "    except ValueError:\n",
        "        print(\"Cannot convert to boolean.\")\n",
        "convert_input()\n"
      ],
      "metadata": {
        "colab": {
          "base_uri": "https://localhost:8080/"
        },
        "id": "Reib9f9bI4pJ",
        "outputId": "23a176ba-c3b8-4f45-b281-2d912c9b0774"
      },
      "execution_count": 6,
      "outputs": [
        {
          "output_type": "stream",
          "name": "stdout",
          "text": [
            "Enter a value: 10\n",
            "Integer: 10, Type: <class 'int'>\n",
            "Float: 10.0, Type: <class 'float'>\n",
            "Cannot convert to boolean.\n"
          ]
        }
      ]
    },
    {
      "cell_type": "code",
      "source": [
        "# 10. Write code to demonstrate type casting with list elements.\n",
        "\n",
        "my_list = [1, 2.5, \"3\", True]\n",
        "\n",
        "int_list = [int(x) for x in my_list]\n",
        "print(\"Integer list:\", int_list)\n",
        "\n",
        "float_list = [float(x) for x in my_list]\n",
        "print(\"Float list:\", float_list)\n",
        "\n",
        "str_list = [str(x) for x in my_list]\n",
        "print(\"String list:\", str_list)\n",
        "\n",
        "my_string = \"hello\"\n",
        "char_list = list(my_string)\n",
        "print(\"Character list:\", char_list)\n",
        "\n",
        "my_sentence = \"This is a sentence\"\n",
        "word_list = my_sentence.split()\n",
        "print(\"Word list:\", word_list)"
      ],
      "metadata": {
        "colab": {
          "base_uri": "https://localhost:8080/"
        },
        "id": "Imc8is2aKKvo",
        "outputId": "0a46ec89-edd9-4e51-e55d-0c2375e8e085"
      },
      "execution_count": 7,
      "outputs": [
        {
          "output_type": "stream",
          "name": "stdout",
          "text": [
            "Integer list: [1, 2, 3, 1]\n",
            "Float list: [1.0, 2.5, 3.0, 1.0]\n",
            "String list: ['1', '2.5', '3', 'True']\n",
            "Character list: ['h', 'e', 'l', 'l', 'o']\n",
            "Word list: ['This', 'is', 'a', 'sentence']\n"
          ]
        }
      ]
    },
    {
      "cell_type": "code",
      "source": [
        "# 11. Write a program that checks if a number is positive, negative, or zero.\n",
        "def check_number(number):\n",
        "\n",
        "  if number > 0:\n",
        "    return \"positive\"\n",
        "  elif number < 0:\n",
        "    return \"negative\"\n",
        "  else:\n",
        "    return \"zero\"\n",
        "\n",
        "user_input = input(\"Enter a number: \")\n",
        "\n",
        "try:\n",
        "  number = int(user_input)\n",
        "except ValueError:\n",
        "  print(\"Invalid input. Please enter a valid integer.\")\n",
        "else:\n",
        "  result = check_number(number)\n",
        "  print(f\"The number is {result}\")"
      ],
      "metadata": {
        "colab": {
          "base_uri": "https://localhost:8080/"
        },
        "id": "R4BtkpfZLDke",
        "outputId": "5b438928-c924-4272-f99e-cf36378fdd90"
      },
      "execution_count": 9,
      "outputs": [
        {
          "output_type": "stream",
          "name": "stdout",
          "text": [
            "Enter a number: -330\n",
            "The number is negative\n"
          ]
        }
      ]
    },
    {
      "cell_type": "code",
      "source": [
        "# 12. Write a for loop to print numbers from 1 to 10.\n",
        "for i in range(1, 101):\n",
        "    print(i)"
      ],
      "metadata": {
        "colab": {
          "base_uri": "https://localhost:8080/"
        },
        "id": "Kzt6gvJ5LxAZ",
        "outputId": "946ca94b-b07a-4323-d08c-e3d68cf5ccb0"
      },
      "execution_count": 12,
      "outputs": [
        {
          "output_type": "stream",
          "name": "stdout",
          "text": [
            "1\n",
            "2\n",
            "3\n",
            "4\n",
            "5\n",
            "6\n",
            "7\n",
            "8\n",
            "9\n",
            "10\n",
            "11\n",
            "12\n",
            "13\n",
            "14\n",
            "15\n",
            "16\n",
            "17\n",
            "18\n",
            "19\n",
            "20\n",
            "21\n",
            "22\n",
            "23\n",
            "24\n",
            "25\n",
            "26\n",
            "27\n",
            "28\n",
            "29\n",
            "30\n",
            "31\n",
            "32\n",
            "33\n",
            "34\n",
            "35\n",
            "36\n",
            "37\n",
            "38\n",
            "39\n",
            "40\n",
            "41\n",
            "42\n",
            "43\n",
            "44\n",
            "45\n",
            "46\n",
            "47\n",
            "48\n",
            "49\n",
            "50\n",
            "51\n",
            "52\n",
            "53\n",
            "54\n",
            "55\n",
            "56\n",
            "57\n",
            "58\n",
            "59\n",
            "60\n",
            "61\n",
            "62\n",
            "63\n",
            "64\n",
            "65\n",
            "66\n",
            "67\n",
            "68\n",
            "69\n",
            "70\n",
            "71\n",
            "72\n",
            "73\n",
            "74\n",
            "75\n",
            "76\n",
            "77\n",
            "78\n",
            "79\n",
            "80\n",
            "81\n",
            "82\n",
            "83\n",
            "84\n",
            "85\n",
            "86\n",
            "87\n",
            "88\n",
            "89\n",
            "90\n",
            "91\n",
            "92\n",
            "93\n",
            "94\n",
            "95\n",
            "96\n",
            "97\n",
            "98\n",
            "99\n",
            "100\n"
          ]
        }
      ]
    },
    {
      "cell_type": "code",
      "source": [
        "# 13. Write a Python program to find the sum of all even numbers between 1 and 50\n",
        "total = 0\n",
        "for number in range(2, 51, 2):\n",
        "    total += number\n",
        "print(total)"
      ],
      "metadata": {
        "colab": {
          "base_uri": "https://localhost:8080/"
        },
        "id": "6Xn-F5s6MkIi",
        "outputId": "6a1e7bfd-6baa-4547-dd9d-aa26526713cc"
      },
      "execution_count": 13,
      "outputs": [
        {
          "output_type": "stream",
          "name": "stdout",
          "text": [
            "650\n"
          ]
        }
      ]
    },
    {
      "cell_type": "code",
      "source": [
        "# 14.  Write a program to reverse a string using a while loop.\n",
        "original_string = input(\"Enter a string: \")\n",
        "\n",
        "reversed_string = \"\"\n",
        "index = len(original_string) - 1\n",
        "\n",
        "while index >= 0:\n",
        "    reversed_string += original_string[index]\n",
        "    index -= 1\n",
        "\n",
        "print(\"Reversed string:\", reversed_string)"
      ],
      "metadata": {
        "colab": {
          "base_uri": "https://localhost:8080/"
        },
        "id": "ij-cu1nhMz7r",
        "outputId": "175d86c8-f784-4f51-e2ca-bfede11da052"
      },
      "execution_count": 21,
      "outputs": [
        {
          "output_type": "stream",
          "name": "stdout",
          "text": [
            "Enter a string: damini \n",
            "Reversed string:  inimad\n"
          ]
        }
      ]
    },
    {
      "cell_type": "code",
      "source": [
        "# 15. Write a Python program to calculate the factorial of a number provided by the user using a while loop.\n",
        "\n",
        "num = int(input(\"Enter a non-negative integer: \"))\n",
        "\n",
        "if num < 0:\n",
        "    print(\"Factorial is not defined for negative numbers.\")\n",
        "else:\n",
        "    factorial = 1\n",
        "    i = 1\n",
        "\n",
        "    while i <= num:\n",
        "        factorial *= i\n",
        "        i += 1\n",
        "\n",
        "    print(f\"Factorial of {num} is {factorial}\")"
      ],
      "metadata": {
        "colab": {
          "base_uri": "https://localhost:8080/"
        },
        "id": "XnDJWi_2OL30",
        "outputId": "70899e8e-a9d8-4d3d-8d07-9e33fc470e11"
      },
      "execution_count": 23,
      "outputs": [
        {
          "output_type": "stream",
          "name": "stdout",
          "text": [
            "Enter a non-negative integer: 4\n",
            "Factorial of 4 is 24\n"
          ]
        }
      ]
    },
    {
      "cell_type": "markdown",
      "source": [],
      "metadata": {
        "id": "fSIWD5SQDqiv"
      }
    },
    {
      "cell_type": "code",
      "source": [],
      "metadata": {
        "id": "LxCZTgDCMi_T"
      },
      "execution_count": null,
      "outputs": []
    }
  ]
}